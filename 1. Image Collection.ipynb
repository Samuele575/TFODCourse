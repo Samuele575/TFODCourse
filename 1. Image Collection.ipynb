{
 "cells": [
  {
   "cell_type": "markdown",
   "metadata": {},
   "source": [
    "# 1. Import Dependencies"
   ]
  },
  {
   "cell_type": "code",
   "execution_count": 1,
   "metadata": {},
   "outputs": [
    {
     "name": "stdout",
     "output_type": "stream",
     "text": [
      "Requirement already satisfied: opencv-python in c:\\users\\samue\\anaconda3\\envs\\tensorflow\\lib\\site-packages (4.8.1.78)\n",
      "Requirement already satisfied: numpy>=1.17.0 in c:\\users\\samue\\appdata\\roaming\\python\\python39\\site-packages (from opencv-python) (1.26.1)\n"
     ]
    }
   ],
   "source": [
    "!pip install opencv-python"
   ]
  },
  {
   "cell_type": "code",
   "execution_count": 2,
   "metadata": {},
   "outputs": [],
   "source": [
    "# Import opencv\n",
    "import cv2 \n",
    "\n",
    "# Import uuid\n",
    "import uuid\n",
    "\n",
    "# Import Operating System\n",
    "import os\n",
    "\n",
    "# Import time\n",
    "import time"
   ]
  },
  {
   "cell_type": "markdown",
   "metadata": {},
   "source": [
    "# 2. Define Images to Collect"
   ]
  },
  {
   "cell_type": "code",
   "execution_count": 4,
   "metadata": {},
   "outputs": [],
   "source": [
    "labels = ['thumbsup', 'thumbsdown', 'thankyou', 'livelong']\n",
    "number_imgs = 10"
   ]
  },
  {
   "cell_type": "markdown",
   "metadata": {},
   "source": [
    "# 3. Setup Folders "
   ]
  },
  {
   "cell_type": "code",
   "execution_count": 5,
   "metadata": {},
   "outputs": [],
   "source": [
    "IMAGES_PATH = os.path.join('Tensorflow', 'workspace', 'images', 'collectedimages')"
   ]
  },
  {
   "cell_type": "code",
   "execution_count": 6,
   "metadata": {},
   "outputs": [],
   "source": [
    "if not os.path.exists(IMAGES_PATH):\n",
    "    if os.name == 'posix':\n",
    "        !mkdir -p {IMAGES_PATH}\n",
    "    if os.name == 'nt':\n",
    "         !mkdir {IMAGES_PATH}\n",
    "for label in labels:\n",
    "    path = os.path.join(IMAGES_PATH, label)\n",
    "    if not os.path.exists(path):\n",
    "        !mkdir {path}"
   ]
  },
  {
   "cell_type": "markdown",
   "metadata": {},
   "source": [
    "# 4. Capture Images"
   ]
  },
  {
   "cell_type": "code",
   "execution_count": 7,
   "metadata": {},
   "outputs": [
    {
     "name": "stdout",
     "output_type": "stream",
     "text": [
      "Collecting images for thumbsup\n",
      "Collecting image 0\n",
      "Collecting image 1\n",
      "Collecting image 2\n",
      "Collecting image 3\n",
      "Collecting image 4\n",
      "Collecting image 5\n",
      "Collecting image 6\n",
      "Collecting image 7\n",
      "Collecting image 8\n",
      "Collecting image 9\n",
      "Collecting images for thumbsdown\n",
      "Collecting image 0\n",
      "Collecting image 1\n",
      "Collecting image 2\n",
      "Collecting image 3\n",
      "Collecting image 4\n",
      "Collecting image 5\n",
      "Collecting image 6\n",
      "Collecting image 7\n",
      "Collecting image 8\n",
      "Collecting image 9\n",
      "Collecting images for thankyou\n",
      "Collecting image 0\n",
      "Collecting image 1\n",
      "Collecting image 2\n",
      "Collecting image 3\n",
      "Collecting image 4\n",
      "Collecting image 5\n",
      "Collecting image 6\n",
      "Collecting image 7\n",
      "Collecting image 8\n",
      "Collecting image 9\n",
      "Collecting images for livelong\n",
      "Collecting image 0\n",
      "Collecting image 1\n",
      "Collecting image 2\n",
      "Collecting image 3\n",
      "Collecting image 4\n",
      "Collecting image 5\n",
      "Collecting image 6\n",
      "Collecting image 7\n",
      "Collecting image 8\n",
      "Collecting image 9\n"
     ]
    }
   ],
   "source": [
    "for label in labels:\n",
    "    cap = cv2.VideoCapture(0)\n",
    "    print('Collecting images for {}'.format(label))\n",
    "    time.sleep(5)\n",
    "    for imgnum in range(number_imgs):\n",
    "        print('Collecting image {}'.format(imgnum))\n",
    "        ret, frame = cap.read()\n",
    "        imgname = os.path.join(IMAGES_PATH,label,label+'.'+'{}.jpg'.format(str(uuid.uuid1())))\n",
    "        cv2.imwrite(imgname, frame)\n",
    "        cv2.imshow('frame', frame)\n",
    "        time.sleep(2)\n",
    "\n",
    "        if cv2.waitKey(1) & 0xFF == ord('q'):\n",
    "            break\n",
    "cap.release()\n",
    "cv2.destroyAllWindows()"
   ]
  },
  {
   "cell_type": "markdown",
   "metadata": {},
   "source": [
    "# 5. Image Labelling"
   ]
  },
  {
   "cell_type": "code",
   "execution_count": 8,
   "metadata": {},
   "outputs": [
    {
     "name": "stdout",
     "output_type": "stream",
     "text": [
      "Collecting pyqt5\n",
      "  Obtaining dependency information for pyqt5 from https://files.pythonhosted.org/packages/ca/ac/596e8ca16fd0634542d874c0d79219fc527ea7de73a5000092f60ecbf6e9/PyQt5-5.15.10-cp37-abi3-win_amd64.whl.metadata\n",
      "  Downloading PyQt5-5.15.10-cp37-abi3-win_amd64.whl.metadata (2.2 kB)\n",
      "Requirement already satisfied: lxml in c:\\users\\samue\\anaconda3\\envs\\tensorflow\\lib\\site-packages (4.9.3)\n",
      "Collecting PyQt5-sip<13,>=12.13 (from pyqt5)\n",
      "  Obtaining dependency information for PyQt5-sip<13,>=12.13 from https://files.pythonhosted.org/packages/a5/d5/657447dc60ee79447781543c967dbd5500ae729730fe76126236ff26b72d/PyQt5_sip-12.13.0-cp39-cp39-win_amd64.whl.metadata\n",
      "  Downloading PyQt5_sip-12.13.0-cp39-cp39-win_amd64.whl.metadata (524 bytes)\n",
      "Collecting PyQt5-Qt5>=5.15.2 (from pyqt5)\n",
      "  Using cached PyQt5_Qt5-5.15.2-py3-none-win_amd64.whl (50.1 MB)\n",
      "Downloading PyQt5-5.15.10-cp37-abi3-win_amd64.whl (6.8 MB)\n",
      "   ---------------------------------------- 0.0/6.8 MB ? eta -:--:--\n",
      "   ---------------------------------------- 0.0/6.8 MB ? eta -:--:--\n",
      "   ---------------------------------------- 0.0/6.8 MB ? eta -:--:--\n",
      "   ---------------------------------------- 0.0/6.8 MB 445.2 kB/s eta 0:00:16\n",
      "   ---------------------------------------- 0.1/6.8 MB 550.5 kB/s eta 0:00:13\n",
      "   - -------------------------------------- 0.2/6.8 MB 1.4 MB/s eta 0:00:05\n",
      "   -- ------------------------------------- 0.4/6.8 MB 1.9 MB/s eta 0:00:04\n",
      "   --- ------------------------------------ 0.6/6.8 MB 2.5 MB/s eta 0:00:03\n",
      "   ---- ----------------------------------- 0.8/6.8 MB 3.1 MB/s eta 0:00:02\n",
      "   ------ --------------------------------- 1.1/6.8 MB 3.6 MB/s eta 0:00:02\n",
      "   ------ --------------------------------- 1.1/6.8 MB 3.4 MB/s eta 0:00:02\n",
      "   ------- -------------------------------- 1.2/6.8 MB 3.4 MB/s eta 0:00:02\n",
      "   -------- ------------------------------- 1.5/6.8 MB 3.6 MB/s eta 0:00:02\n",
      "   --------- ------------------------------ 1.6/6.8 MB 3.5 MB/s eta 0:00:02\n",
      "   ---------- ----------------------------- 1.8/6.8 MB 3.6 MB/s eta 0:00:02\n",
      "   ----------- ---------------------------- 1.9/6.8 MB 3.5 MB/s eta 0:00:02\n",
      "   ------------ --------------------------- 2.1/6.8 MB 3.5 MB/s eta 0:00:02\n",
      "   ------------ --------------------------- 2.2/6.8 MB 3.4 MB/s eta 0:00:02\n",
      "   ------------- -------------------------- 2.3/6.8 MB 3.4 MB/s eta 0:00:02\n",
      "   -------------- ------------------------- 2.4/6.8 MB 3.4 MB/s eta 0:00:02\n",
      "   -------------- ------------------------- 2.5/6.8 MB 3.3 MB/s eta 0:00:02\n",
      "   --------------- ------------------------ 2.7/6.8 MB 3.3 MB/s eta 0:00:02\n",
      "   ---------------- ----------------------- 2.8/6.8 MB 3.3 MB/s eta 0:00:02\n",
      "   ----------------- ---------------------- 2.9/6.8 MB 3.2 MB/s eta 0:00:02\n",
      "   ----------------- ---------------------- 3.0/6.8 MB 3.2 MB/s eta 0:00:02\n",
      "   ------------------ --------------------- 3.2/6.8 MB 3.2 MB/s eta 0:00:02\n",
      "   ------------------ --------------------- 3.2/6.8 MB 3.2 MB/s eta 0:00:02\n",
      "   ------------------- -------------------- 3.4/6.8 MB 3.2 MB/s eta 0:00:02\n",
      "   -------------------- ------------------- 3.5/6.8 MB 3.2 MB/s eta 0:00:02\n",
      "   --------------------- ------------------ 3.6/6.8 MB 3.2 MB/s eta 0:00:02\n",
      "   ---------------------- ----------------- 3.8/6.8 MB 3.2 MB/s eta 0:00:01\n",
      "   ---------------------- ----------------- 3.9/6.8 MB 3.2 MB/s eta 0:00:01\n",
      "   ----------------------- ---------------- 4.1/6.8 MB 3.2 MB/s eta 0:00:01\n",
      "   ------------------------ --------------- 4.2/6.8 MB 3.2 MB/s eta 0:00:01\n",
      "   ------------------------- -------------- 4.4/6.8 MB 3.2 MB/s eta 0:00:01\n",
      "   -------------------------- ------------- 4.5/6.8 MB 3.2 MB/s eta 0:00:01\n",
      "   --------------------------- ------------ 4.7/6.8 MB 3.2 MB/s eta 0:00:01\n",
      "   ---------------------------- ----------- 4.9/6.8 MB 3.2 MB/s eta 0:00:01\n",
      "   ----------------------------- ---------- 5.0/6.8 MB 3.2 MB/s eta 0:00:01\n",
      "   ------------------------------ --------- 5.2/6.8 MB 3.2 MB/s eta 0:00:01\n",
      "   ------------------------------- -------- 5.4/6.8 MB 3.3 MB/s eta 0:00:01\n",
      "   -------------------------------- ------- 5.5/6.8 MB 3.3 MB/s eta 0:00:01\n",
      "   --------------------------------- ------ 5.7/6.8 MB 3.3 MB/s eta 0:00:01\n",
      "   ---------------------------------- ----- 5.9/6.8 MB 3.3 MB/s eta 0:00:01\n",
      "   ----------------------------------- ---- 6.1/6.8 MB 3.3 MB/s eta 0:00:01\n",
      "   ------------------------------------ --- 6.3/6.8 MB 3.3 MB/s eta 0:00:01\n",
      "   -------------------------------------- - 6.5/6.8 MB 3.4 MB/s eta 0:00:01\n",
      "   ---------------------------------------  6.7/6.8 MB 3.4 MB/s eta 0:00:01\n",
      "   ---------------------------------------  6.8/6.8 MB 3.4 MB/s eta 0:00:01\n",
      "   ---------------------------------------- 6.8/6.8 MB 3.3 MB/s eta 0:00:00\n",
      "Downloading PyQt5_sip-12.13.0-cp39-cp39-win_amd64.whl (78 kB)\n",
      "   ---------------------------------------- 0.0/78.5 kB ? eta -:--:--\n",
      "   ---------------------------------------- 78.5/78.5 kB 4.6 MB/s eta 0:00:00\n",
      "Installing collected packages: PyQt5-Qt5, PyQt5-sip, pyqt5\n",
      "Successfully installed PyQt5-Qt5-5.15.2 PyQt5-sip-12.13.0 pyqt5-5.15.10\n"
     ]
    }
   ],
   "source": [
    "!pip install --upgrade pyqt5 lxml"
   ]
  },
  {
   "cell_type": "code",
   "execution_count": 9,
   "metadata": {},
   "outputs": [],
   "source": [
    "LABELIMG_PATH = os.path.join('Tensorflow', 'labelimg')"
   ]
  },
  {
   "cell_type": "code",
   "execution_count": 10,
   "metadata": {},
   "outputs": [
    {
     "name": "stderr",
     "output_type": "stream",
     "text": [
      "Cloning into 'Tensorflow\\labelimg'...\n"
     ]
    }
   ],
   "source": [
    "if not os.path.exists(LABELIMG_PATH):\n",
    "    !mkdir {LABELIMG_PATH}\n",
    "    !git clone https://github.com/tzutalin/labelImg {LABELIMG_PATH}"
   ]
  },
  {
   "cell_type": "code",
   "execution_count": 11,
   "metadata": {},
   "outputs": [],
   "source": [
    "if os.name == 'posix':\n",
    "    !make qt5py3\n",
    "if os.name =='nt':\n",
    "    !cd {LABELIMG_PATH} && pyrcc5 -o libs/resources.py resources.qrc"
   ]
  },
  {
   "cell_type": "code",
   "execution_count": 12,
   "metadata": {},
   "outputs": [
    {
     "name": "stdout",
     "output_type": "stream",
     "text": [
      "Image:C:\\Users\\samue\\ML_training\\TFODCourse\\Tensorflow\\workspace\\images\\collectedimages\\thumbsup\\thumbsup.0a822271-6d8b-11ee-a175-94b86daa2ad9.jpg -> Annotation:C:/Users/samue/ML_training/TFODCourse/Tensorflow/workspace/images/collectedimages/thumbsup\\thumbsup.0a822271-6d8b-11ee-a175-94b86daa2ad9.xml\n",
      "Image:C:\\Users\\samue\\ML_training\\TFODCourse\\Tensorflow\\workspace\\images\\collectedimages\\thumbsup\\thumbsup.0bbc4137-6d8b-11ee-b58b-94b86daa2ad9.jpg -> Annotation:C:/Users/samue/ML_training/TFODCourse/Tensorflow/workspace/images/collectedimages/thumbsup\\thumbsup.0bbc4137-6d8b-11ee-b58b-94b86daa2ad9.xml\n",
      "Image:C:\\Users\\samue\\ML_training\\TFODCourse\\Tensorflow\\workspace\\images\\collectedimages\\thumbsup\\thumbsup.0cf4ca69-6d8b-11ee-ba41-94b86daa2ad9.jpg -> Annotation:C:/Users/samue/ML_training/TFODCourse/Tensorflow/workspace/images/collectedimages/thumbsup\\thumbsup.0cf4ca69-6d8b-11ee-ba41-94b86daa2ad9.xml\n",
      "Image:C:\\Users\\samue\\ML_training\\TFODCourse\\Tensorflow\\workspace\\images\\collectedimages\\thumbsup\\thumbsup.0e2ef99a-6d8b-11ee-9e9e-94b86daa2ad9.jpg -> Annotation:C:/Users/samue/ML_training/TFODCourse/Tensorflow/workspace/images/collectedimages/thumbsup\\thumbsup.0e2ef99a-6d8b-11ee-9e9e-94b86daa2ad9.xml\n",
      "Image:C:\\Users\\samue\\ML_training\\TFODCourse\\Tensorflow\\workspace\\images\\collectedimages\\thumbsup\\thumbsup.0f69b233-6d8b-11ee-a1b8-94b86daa2ad9.jpg -> Annotation:C:/Users/samue/ML_training/TFODCourse/Tensorflow/workspace/images/collectedimages/thumbsup\\thumbsup.0f69b233-6d8b-11ee-a1b8-94b86daa2ad9.xml\n",
      "Image:C:\\Users\\samue\\ML_training\\TFODCourse\\Tensorflow\\workspace\\images\\collectedimages\\thumbsup\\thumbsup.05a15838-6d8b-11ee-af11-94b86daa2ad9.jpg -> Annotation:C:/Users/samue/ML_training/TFODCourse/Tensorflow/workspace/images/collectedimages/thumbsup\\thumbsup.05a15838-6d8b-11ee-af11-94b86daa2ad9.xml\n",
      "Image:C:\\Users\\samue\\ML_training\\TFODCourse\\Tensorflow\\workspace\\images\\collectedimages\\thumbsup\\thumbsup.06d72bf5-6d8b-11ee-baf2-94b86daa2ad9.jpg -> Annotation:C:/Users/samue/ML_training/TFODCourse/Tensorflow/workspace/images/collectedimages/thumbsup\\thumbsup.06d72bf5-6d8b-11ee-baf2-94b86daa2ad9.xml\n",
      "Image:C:\\Users\\samue\\ML_training\\TFODCourse\\Tensorflow\\workspace\\images\\collectedimages\\thumbsup\\thumbsup.04627deb-6d8b-11ee-a343-94b86daa2ad9.jpg -> Annotation:C:/Users/samue/ML_training/TFODCourse/Tensorflow/workspace/images/collectedimages/thumbsup\\thumbsup.04627deb-6d8b-11ee-a343-94b86daa2ad9.xml\n",
      "Image:C:\\Users\\samue\\ML_training\\TFODCourse\\Tensorflow\\workspace\\images\\collectedimages\\thumbsup\\thumbsup.08107a15-6d8b-11ee-9fdb-94b86daa2ad9.jpg -> Annotation:C:/Users/samue/ML_training/TFODCourse/Tensorflow/workspace/images/collectedimages/thumbsup\\thumbsup.08107a15-6d8b-11ee-9fdb-94b86daa2ad9.xml\n",
      "Image:C:\\Users\\samue\\ML_training\\TFODCourse\\Tensorflow\\workspace\\images\\collectedimages\\thumbsup\\thumbsup.094879d5-6d8b-11ee-8622-94b86daa2ad9.jpg -> Annotation:C:/Users/samue/ML_training/TFODCourse/Tensorflow/workspace/images/collectedimages/thumbsup\\thumbsup.094879d5-6d8b-11ee-8622-94b86daa2ad9.xml\n",
      "Image:C:\\Users\\samue\\ML_training\\TFODCourse\\Tensorflow\\workspace\\images\\collectedimages\\thumbsdown\\thumbsdown.1a3bd3a1-6d8b-11ee-bfc2-94b86daa2ad9.jpg -> Annotation:C:/Users/samue/ML_training/TFODCourse/Tensorflow/workspace/images/collectedimages/thumbsdown\\thumbsdown.1a3bd3a1-6d8b-11ee-bfc2-94b86daa2ad9.xml\n",
      "Image:C:\\Users\\samue\\ML_training\\TFODCourse\\Tensorflow\\workspace\\images\\collectedimages\\thumbsdown\\thumbsdown.1b723ef1-6d8b-11ee-a939-94b86daa2ad9.jpg -> Annotation:C:/Users/samue/ML_training/TFODCourse/Tensorflow/workspace/images/collectedimages/thumbsdown\\thumbsdown.1b723ef1-6d8b-11ee-a939-94b86daa2ad9.xml\n",
      "Image:C:\\Users\\samue\\ML_training\\TFODCourse\\Tensorflow\\workspace\\images\\collectedimages\\thumbsdown\\thumbsdown.1ca8f567-6d8b-11ee-9e0e-94b86daa2ad9.jpg -> Annotation:C:/Users/samue/ML_training/TFODCourse/Tensorflow/workspace/images/collectedimages/thumbsdown\\thumbsdown.1ca8f567-6d8b-11ee-9e0e-94b86daa2ad9.xml\n",
      "Image:C:\\Users\\samue\\ML_training\\TFODCourse\\Tensorflow\\workspace\\images\\collectedimages\\thumbsdown\\thumbsdown.1dde25b2-6d8b-11ee-a349-94b86daa2ad9.jpg -> Annotation:C:/Users/samue/ML_training/TFODCourse/Tensorflow/workspace/images/collectedimages/thumbsdown\\thumbsdown.1dde25b2-6d8b-11ee-a349-94b86daa2ad9.xml\n",
      "Image:C:\\Users\\samue\\ML_training\\TFODCourse\\Tensorflow\\workspace\\images\\collectedimages\\thumbsdown\\thumbsdown.1f14cc7a-6d8b-11ee-9733-94b86daa2ad9.jpg -> Annotation:C:/Users/samue/ML_training/TFODCourse/Tensorflow/workspace/images/collectedimages/thumbsdown\\thumbsdown.1f14cc7a-6d8b-11ee-9733-94b86daa2ad9.xml\n",
      "Image:C:\\Users\\samue\\ML_training\\TFODCourse\\Tensorflow\\workspace\\images\\collectedimages\\thumbsdown\\thumbsdown.17d0217e-6d8b-11ee-bca8-94b86daa2ad9.jpg -> Annotation:C:/Users/samue/ML_training/TFODCourse/Tensorflow/workspace/images/collectedimages/thumbsdown\\thumbsdown.17d0217e-6d8b-11ee-bca8-94b86daa2ad9.xml\n",
      "Cancel creation.\n",
      "Image:C:\\Users\\samue\\ML_training\\TFODCourse\\Tensorflow\\workspace\\images\\collectedimages\\thumbsdown\\thumbsdown.169b3b4f-6d8b-11ee-9933-94b86daa2ad9.jpg -> Annotation:C:/Users/samue/ML_training/TFODCourse/Tensorflow/workspace/images/collectedimages/thumbsdown\\thumbsdown.169b3b4f-6d8b-11ee-9933-94b86daa2ad9.xml\n",
      "Image:C:\\Users\\samue\\ML_training\\TFODCourse\\Tensorflow\\workspace\\images\\collectedimages\\thumbsdown\\thumbsdown.1564ae3a-6d8b-11ee-bc11-94b86daa2ad9.jpg -> Annotation:C:/Users/samue/ML_training/TFODCourse/Tensorflow/workspace/images/collectedimages/thumbsdown\\thumbsdown.1564ae3a-6d8b-11ee-bc11-94b86daa2ad9.xml\n",
      "Image:C:\\Users\\samue\\ML_training\\TFODCourse\\Tensorflow\\workspace\\images\\collectedimages\\thumbsdown\\thumbsdown.19095cb9-6d8b-11ee-98ab-94b86daa2ad9.jpg -> Annotation:C:/Users/samue/ML_training/TFODCourse/Tensorflow/workspace/images/collectedimages/thumbsdown\\thumbsdown.19095cb9-6d8b-11ee-98ab-94b86daa2ad9.xml\n",
      "Image:C:\\Users\\samue\\ML_training\\TFODCourse\\Tensorflow\\workspace\\images\\collectedimages\\thankyou\\thankyou.2b267c95-6d8b-11ee-a61f-94b86daa2ad9.jpg -> Annotation:C:/Users/samue/ML_training/TFODCourse/Tensorflow/workspace/images/collectedimages/thankyou\\thankyou.2b267c95-6d8b-11ee-a61f-94b86daa2ad9.xml\n",
      "Image:C:\\Users\\samue\\ML_training\\TFODCourse\\Tensorflow\\workspace\\images\\collectedimages\\thankyou\\thankyou.2c5cc311-6d8b-11ee-82ac-94b86daa2ad9.jpg -> Annotation:C:/Users/samue/ML_training/TFODCourse/Tensorflow/workspace/images/collectedimages/thankyou\\thankyou.2c5cc311-6d8b-11ee-82ac-94b86daa2ad9.xml\n",
      "Image:C:\\Users\\samue\\ML_training\\TFODCourse\\Tensorflow\\workspace\\images\\collectedimages\\thankyou\\thankyou.2d90f299-6d8b-11ee-b186-94b86daa2ad9.jpg -> Annotation:C:/Users/samue/ML_training/TFODCourse/Tensorflow/workspace/images/collectedimages/thankyou\\thankyou.2d90f299-6d8b-11ee-b186-94b86daa2ad9.xml\n",
      "Image:C:\\Users\\samue\\ML_training\\TFODCourse\\Tensorflow\\workspace\\images\\collectedimages\\thankyou\\thankyou.2ec4abee-6d8b-11ee-b2da-94b86daa2ad9.jpg -> Annotation:C:/Users/samue/ML_training/TFODCourse/Tensorflow/workspace/images/collectedimages/thankyou\\thankyou.2ec4abee-6d8b-11ee-b2da-94b86daa2ad9.xml\n",
      "Image:C:\\Users\\samue\\ML_training\\TFODCourse\\Tensorflow\\workspace\\images\\collectedimages\\thankyou\\thankyou.23da81c2-6d8b-11ee-b288-94b86daa2ad9.jpg -> Annotation:C:/Users/samue/ML_training/TFODCourse/Tensorflow/workspace/images/collectedimages/thankyou\\thankyou.23da81c2-6d8b-11ee-b288-94b86daa2ad9.xml\n",
      "Image:C:\\Users\\samue\\ML_training\\TFODCourse\\Tensorflow\\workspace\\images\\collectedimages\\thankyou\\thankyou.28b811b3-6d8b-11ee-ba8f-94b86daa2ad9.jpg -> Annotation:C:/Users/samue/ML_training/TFODCourse/Tensorflow/workspace/images/collectedimages/thankyou\\thankyou.28b811b3-6d8b-11ee-ba8f-94b86daa2ad9.xml\n",
      "Image:C:\\Users\\samue\\ML_training\\TFODCourse\\Tensorflow\\workspace\\images\\collectedimages\\thankyou\\thankyou.29efcd25-6d8b-11ee-8b06-94b86daa2ad9.jpg -> Annotation:C:/Users/samue/ML_training/TFODCourse/Tensorflow/workspace/images/collectedimages/thankyou\\thankyou.29efcd25-6d8b-11ee-8b06-94b86daa2ad9.xml\n",
      "Image:C:\\Users\\samue\\ML_training\\TFODCourse\\Tensorflow\\workspace\\images\\collectedimages\\thankyou\\thankyou.251206b3-6d8b-11ee-b65a-94b86daa2ad9.jpg -> Annotation:C:/Users/samue/ML_training/TFODCourse/Tensorflow/workspace/images/collectedimages/thankyou\\thankyou.251206b3-6d8b-11ee-b65a-94b86daa2ad9.xml\n",
      "Image:C:\\Users\\samue\\ML_training\\TFODCourse\\Tensorflow\\workspace\\images\\collectedimages\\thankyou\\thankyou.264991fa-6d8b-11ee-9526-94b86daa2ad9.jpg -> Annotation:C:/Users/samue/ML_training/TFODCourse/Tensorflow/workspace/images/collectedimages/thankyou\\thankyou.264991fa-6d8b-11ee-9526-94b86daa2ad9.xml\n",
      "Image:C:\\Users\\samue\\ML_training\\TFODCourse\\Tensorflow\\workspace\\images\\collectedimages\\thankyou\\thankyou.2780984a-6d8b-11ee-8fb6-94b86daa2ad9.jpg -> Annotation:C:/Users/samue/ML_training/TFODCourse/Tensorflow/workspace/images/collectedimages/thankyou\\thankyou.2780984a-6d8b-11ee-8fb6-94b86daa2ad9.xml\n",
      "Image:C:\\Users\\samue\\ML_training\\TFODCourse\\Tensorflow\\workspace\\images\\collectedimages\\livelong\\livelong.3ad25279-6d8b-11ee-90a2-94b86daa2ad9.jpg -> Annotation:C:/Users/samue/ML_training/TFODCourse/Tensorflow/workspace/images/collectedimages/livelong\\livelong.3ad25279-6d8b-11ee-90a2-94b86daa2ad9.xml\n",
      "Image:C:\\Users\\samue\\ML_training\\TFODCourse\\Tensorflow\\workspace\\images\\collectedimages\\livelong\\livelong.3ad25279-6d8b-11ee-90a2-94b86daa2ad9.jpg -> Annotation:C:/Users/samue/ML_training/TFODCourse/Tensorflow/workspace/images/collectedimages/livelong\\livelong.3ad25279-6d8b-11ee-90a2-94b86daa2ad9.xml\n",
      "Image:C:\\Users\\samue\\ML_training\\TFODCourse\\Tensorflow\\workspace\\images\\collectedimages\\livelong\\livelong.3c09a238-6d8b-11ee-a48f-94b86daa2ad9.jpg -> Annotation:C:/Users/samue/ML_training/TFODCourse/Tensorflow/workspace/images/collectedimages/livelong\\livelong.3c09a238-6d8b-11ee-a48f-94b86daa2ad9.xml\n",
      "Image:C:\\Users\\samue\\ML_training\\TFODCourse\\Tensorflow\\workspace\\images\\collectedimages\\livelong\\livelong.3d40852a-6d8b-11ee-ab2d-94b86daa2ad9.jpg -> Annotation:C:/Users/samue/ML_training/TFODCourse/Tensorflow/workspace/images/collectedimages/livelong\\livelong.3d40852a-6d8b-11ee-ab2d-94b86daa2ad9.xml\n",
      "Image:C:\\Users\\samue\\ML_training\\TFODCourse\\Tensorflow\\workspace\\images\\collectedimages\\livelong\\livelong.3e749cb4-6d8b-11ee-8f48-94b86daa2ad9.jpg -> Annotation:C:/Users/samue/ML_training/TFODCourse/Tensorflow/workspace/images/collectedimages/livelong\\livelong.3e749cb4-6d8b-11ee-8f48-94b86daa2ad9.xml\n",
      "Image:C:\\Users\\samue\\ML_training\\TFODCourse\\Tensorflow\\workspace\\images\\collectedimages\\livelong\\livelong.34c07bf4-6d8b-11ee-b5f6-94b86daa2ad9.jpg -> Annotation:C:/Users/samue/ML_training/TFODCourse/Tensorflow/workspace/images/collectedimages/livelong\\livelong.34c07bf4-6d8b-11ee-b5f6-94b86daa2ad9.xml\n",
      "Image:C:\\Users\\samue\\ML_training\\TFODCourse\\Tensorflow\\workspace\\images\\collectedimages\\livelong\\livelong.35fa8b99-6d8b-11ee-b6ed-94b86daa2ad9.jpg -> Annotation:C:/Users/samue/ML_training/TFODCourse/Tensorflow/workspace/images/collectedimages/livelong\\livelong.35fa8b99-6d8b-11ee-b6ed-94b86daa2ad9.xml\n",
      "Image:C:\\Users\\samue\\ML_training\\TFODCourse\\Tensorflow\\workspace\\images\\collectedimages\\livelong\\livelong.372eba6c-6d8b-11ee-a716-94b86daa2ad9.jpg -> Annotation:C:/Users/samue/ML_training/TFODCourse/Tensorflow/workspace/images/collectedimages/livelong\\livelong.372eba6c-6d8b-11ee-a716-94b86daa2ad9.xml\n",
      "Image:C:\\Users\\samue\\ML_training\\TFODCourse\\Tensorflow\\workspace\\images\\collectedimages\\livelong\\livelong.399d17c1-6d8b-11ee-bafe-94b86daa2ad9.jpg -> Annotation:C:/Users/samue/ML_training/TFODCourse/Tensorflow/workspace/images/collectedimages/livelong\\livelong.399d17c1-6d8b-11ee-bafe-94b86daa2ad9.xml\n",
      "Image:C:\\Users\\samue\\ML_training\\TFODCourse\\Tensorflow\\workspace\\images\\collectedimages\\livelong\\livelong.3388e9f7-6d8b-11ee-a69e-94b86daa2ad9.jpg -> Annotation:C:/Users/samue/ML_training/TFODCourse/Tensorflow/workspace/images/collectedimages/livelong\\livelong.3388e9f7-6d8b-11ee-a69e-94b86daa2ad9.xml\n",
      "Image:C:\\Users\\samue\\ML_training\\TFODCourse\\Tensorflow\\workspace\\images\\collectedimages\\livelong\\livelong.386638cc-6d8b-11ee-82be-94b86daa2ad9.jpg -> Annotation:C:/Users/samue/ML_training/TFODCourse/Tensorflow/workspace/images/collectedimages/livelong\\livelong.386638cc-6d8b-11ee-82be-94b86daa2ad9.xml\n"
     ]
    }
   ],
   "source": [
    "!cd {LABELIMG_PATH} && python labelImg.py"
   ]
  },
  {
   "cell_type": "markdown",
   "metadata": {},
   "source": [
    "# 6. Move them into a Training and Testing Partition"
   ]
  },
  {
   "cell_type": "markdown",
   "metadata": {},
   "source": [
    "# OPTIONAL - 7. Compress them for Colab Training"
   ]
  },
  {
   "cell_type": "code",
   "execution_count": 13,
   "metadata": {},
   "outputs": [],
   "source": [
    "TRAIN_PATH = os.path.join('Tensorflow', 'workspace', 'images', 'train')\n",
    "TEST_PATH = os.path.join('Tensorflow', 'workspace', 'images', 'test')\n",
    "ARCHIVE_PATH = os.path.join('Tensorflow', 'workspace', 'images', 'archive.tar.gz')"
   ]
  },
  {
   "cell_type": "code",
   "execution_count": 14,
   "metadata": {},
   "outputs": [],
   "source": [
    "!tar -czf {ARCHIVE_PATH} {TRAIN_PATH} {TEST_PATH}"
   ]
  },
  {
   "cell_type": "code",
   "execution_count": null,
   "metadata": {},
   "outputs": [],
   "source": []
  }
 ],
 "metadata": {
  "kernelspec": {
   "display_name": "Python 3 (ipykernel)",
   "language": "python",
   "name": "python3"
  },
  "language_info": {
   "codemirror_mode": {
    "name": "ipython",
    "version": 3
   },
   "file_extension": ".py",
   "mimetype": "text/x-python",
   "name": "python",
   "nbconvert_exporter": "python",
   "pygments_lexer": "ipython3",
   "version": "3.9.18"
  }
 },
 "nbformat": 4,
 "nbformat_minor": 2
}
